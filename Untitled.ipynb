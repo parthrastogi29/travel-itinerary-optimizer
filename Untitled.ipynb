{
 "cells": [
  {
   "cell_type": "code",
   "execution_count": 5,
   "id": "3feb44aa-0b0e-4509-8263-b94cac34228b",
   "metadata": {},
   "outputs": [
    {
     "name": "stdout",
     "output_type": "stream",
     "text": [
      "✅ Found 182 unique destinations.\n",
      "['Abu Dhabi', 'Agra', 'Ahmedabad', 'Ahmednagar', 'Ajmer', 'Alibagh', 'Allepey', 'Almora', 'Alwar', 'Amritsar', 'Anuradhapura', 'Auckland', 'Aurangabad', 'Bali', 'Bandipur', 'Bangalore', 'Bangkok', 'Batam', 'Bentota', 'Bharatpur', 'Bikaner', 'Bintan Island', 'Bundi', 'Cairns', 'Chail', 'Chandigarh', 'Chennai', 'Cherrapunjee', 'Chikmangalur', 'Chintpurni', 'Chittorgarh', 'Christchurch', 'Cochin', 'Colombo', 'Coorg', 'Copenhagen', 'Corbett', 'Dalhousie', 'Daman', 'Dambulla', 'Darjeeling', 'Dharamshala', 'Dubai', 'Dwarka', 'Franz Josef', 'Galle', 'Gangtok', 'Ganpatipule', 'Genting', 'Goa', 'Gokarna', 'Gold Coast', 'Gulmarg', 'Guwahati', 'Gwalior', 'Hampi', 'Haridwar', 'Hassan', 'Havelock', 'Helsinki', 'Hong Kong', 'Jaipur', 'Jaisalmer', 'Jakarta', 'Jammu', 'Jamnagar', 'Jodhpur', 'Johor Bahru', 'Joshimath', 'Kabini', 'Kalimpong', 'Kanchipuram', 'Kandy', 'Kangra', 'Kanyakumari', 'Kasauli', 'Kasol', 'Katra', 'Kausani', 'Kaziranga', 'Khajuraho', 'Kishangarh', 'Kodaikanal', 'Kota Kinabalu', 'Kovalam', 'Kovalam and Poovar', 'Krabi town', 'Kuala Lumpur', 'Kullu', 'Kumarakom', 'Kumbakonam', 'Kumbalgarh', 'Kuta', 'Lachen', 'Lachung', 'Langkawi', 'Leh', 'Lonavala And Khandala', 'Lucknow', 'Madurai', 'Mahabalipuram', 'Mahe Island', 'Manali', 'Mandawa', 'Mathura', 'Mauritius', 'Melbourne', 'Moscow', 'Mount Abu', 'Mumbai', 'Munnar', 'Mussoorie', 'Mysore', 'Nainital', 'Namchi', 'Nameri', 'Nanded', 'Nasik', 'Nawalgarh', 'Negombo', 'New Delhi', 'Niel Island', 'Nubra Valley', 'Nuwara Eliya', 'Ooty', 'Orchha', 'Oslo', 'Pahalgam', 'Palampur', 'Pali', 'Paris', 'Paro', 'Parwanoo', 'Patnitop', 'Pattaya', 'Pelling', 'Penang', 'Phuentsholing', 'Phuket', 'Pondicherry', 'Poovar', 'Port Blair', 'Prague', 'Praslin Island', 'Punakha', 'Pushkar', 'Queenstown', 'Rameshwaram', 'Ranakpur', 'Ranikhet', 'Ranthambhore', 'Ras Al Khaimah', 'Rishikesh', 'Rotorua', 'Saint Petersburg', 'Saputara', 'Seminyak', 'Sharjah', 'Shillong', 'Shimla', 'Shirdi', 'Sigiriya', 'Siliguri', 'Singapore', 'Singapore Cruise', 'Somnath', 'Sonmarg', 'Srinagar', 'Sydney', 'Tanjore', 'Thekkady', 'Thimpu', 'Tiruchirapally', 'Tirupati', 'Trincomalee', 'Trivandrum', 'Udaipur', 'Vadodara', 'Varanasi', 'Varkala', 'Wayanad', 'Yala']\n",
      "✅ Unique destinations saved to 'unique_destinations.txt'.\n"
     ]
    }
   ],
   "source": [
    "import pandas as pd\n",
    "\n",
    "# Load the corrected dataset\n",
    "df = pd.read_csv(r\"C:\\Users\\devya\\Desktop\\OA Travel Itenarary\\DATA SET\\mmt\\final_corrected_data.csv\")\n",
    "\n",
    "\n",
    "# Standardize column names (remove leading/trailing spaces)\n",
    "df.columns = df.columns.str.strip()\n",
    "\n",
    "# Extract all unique destination names\n",
    "unique_destinations = set()  # Use a set to store unique names\n",
    "\n",
    "# Iterate through each row in the 'Destination' column\n",
    "for destinations in df['Destination'].dropna():  # Drop NaN values\n",
    "    places = destinations.split('|')  # Split by '|'\n",
    "    unique_destinations.update(place.strip() for place in places)  # Remove extra spaces\n",
    "\n",
    "# Convert set to sorted list\n",
    "unique_destinations = sorted(unique_destinations)\n",
    "\n",
    "# Print and save unique destinations\n",
    "print(f\"✅ Found {len(unique_destinations)} unique destinations.\")\n",
    "print(unique_destinations)\n",
    "\n",
    "# Save unique destinations to a text file\n",
    "with open(\"unique_destinations.txt\", \"w\") as f:\n",
    "    for place in unique_destinations:\n",
    "        f.write(place + \"\\n\")\n",
    "\n",
    "print(\"✅ Unique destinations saved to 'unique_destinations.txt'.\")\n"
   ]
  },
  {
   "cell_type": "code",
   "execution_count": 6,
   "id": "7926626e-03ed-4a84-a944-93d1e5a85203",
   "metadata": {},
   "outputs": [
    {
     "name": "stdout",
     "output_type": "stream",
     "text": [
      "✅ Pickle file saved with 182 unique destinations.\n"
     ]
    }
   ],
   "source": [
    "import pandas as pd\n",
    "import pickle\n",
    "\n",
    "# Load the corrected dataset\n",
    "df = pd.read_csv(r\"C:\\Users\\devya\\Desktop\\OA Travel Itenarary\\DATA SET\\mmt\\final_corrected_data.csv\")\n",
    "\n",
    "# Extract unique destinations\n",
    "unique_destinations = set()\n",
    "\n",
    "for destinations in df['Destination'].dropna():\n",
    "    places = destinations.split('|')\n",
    "    unique_destinations.update(place.strip() for place in places)  # Remove spaces\n",
    "\n",
    "# Convert to a sorted list\n",
    "unique_destinations = sorted(unique_destinations)\n",
    "\n",
    "# Save the unique destinations using Pickle\n",
    "with open(\"unique_destinations.pkl\", \"wb\") as f:\n",
    "    pickle.dump(unique_destinations, f)\n",
    "\n",
    "print(f\"✅ Pickle file saved with {len(unique_destinations)} unique destinations.\")\n"
   ]
  },
  {
   "cell_type": "code",
   "execution_count": null,
   "id": "4b1b337c-5c3f-4ce9-8fac-4b44b0d09d4e",
   "metadata": {},
   "outputs": [],
   "source": []
  }
 ],
 "metadata": {
  "kernelspec": {
   "display_name": "Python 3 (ipykernel)",
   "language": "python",
   "name": "python3"
  },
  "language_info": {
   "codemirror_mode": {
    "name": "ipython",
    "version": 3
   },
   "file_extension": ".py",
   "mimetype": "text/x-python",
   "name": "python",
   "nbconvert_exporter": "python",
   "pygments_lexer": "ipython3",
   "version": "3.10.6"
  }
 },
 "nbformat": 4,
 "nbformat_minor": 5
}
